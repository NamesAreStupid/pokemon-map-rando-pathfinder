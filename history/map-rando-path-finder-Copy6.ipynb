{
 "cells": [
  {
   "cell_type": "code",
   "execution_count": 165,
   "id": "49a1651e-ea5d-4c3a-9c2e-07423bf05e72",
   "metadata": {},
   "outputs": [],
   "source": [
    "import pandas as pd\n",
    "import numpy as np\n",
    "from functools import partial\n",
    "import re\n",
    "\n",
    "df = pd.read_excel('node-edges.xlsx', header=None, )\n",
    "df.columns = df.iloc[61]\n",
    "df = df.iloc[0:30]\n",
    "\n",
    "count = 0\n",
    "for i in range(0, len(df.columns)):\n",
    "    if (i % 2 != 0):\n",
    "        df.columns.values[i] = (\"%02d\" % count) + ': Destination'\n",
    "        count += 1\n",
    "        \n",
    "slices = []\n",
    "for i in range(2, len(df.columns), 2):\n",
    "    s = df.iloc[:, i-2:i]\n",
    "    s = s.dropna()\n",
    "    s = s[s.iloc[:,1] != '-'] # edges are marked at entrance AND destination, so missing values can be removed\n",
    "    slices.append(s)\n",
    "    \n",
    "slices_dict = {s.iloc[:,0].name : s for s in slices}\n",
    "\n",
    "def extract_prefix(index, row):\n",
    "    return \" \".join(row[0].split(\" \", index)[:index])\n",
    "\n",
    "def extract_prefix_aqua_hideout(row):\n",
    "    if 'Warps' in row[0] or 'B1F' in row[0]:\n",
    "        return extract_prefix(4, row)\n",
    "    else:\n",
    "        return extract_prefix(3, row)\n",
    "    \n",
    "def extract_prefix_abandoned_ship(row):\n",
    "    if 'B1F' in row[0] or 'R2' in row[0]:\n",
    "        return extract_prefix(3, row)\n",
    "    else:\n",
    "        return extract_prefix(4, row)\n",
    "    \n",
    "def extract_prefix_meteor_falls(row):\n",
    "    if 'B1F' in row[0] or 'Rooms' in row[0]:\n",
    "        return extract_prefix(4, row)\n",
    "    else:\n",
    "        return extract_prefix(3, row)\n",
    "\n",
    "def split_sub_nodes(node, extract_prefix):\n",
    "    sub_nodes = []\n",
    "    # current_group = []\n",
    "    current_prefix = \"\"\n",
    "    start = 0\n",
    "    end = 0\n",
    "    for row in node.iloc:\n",
    "        name = extract_prefix(row)\n",
    "        if current_prefix == name:\n",
    "            end += 1\n",
    "        else:\n",
    "            sub_nodes.append(node.iloc[start:end])\n",
    "            start = end\n",
    "            end += 1\n",
    "            current_prefix = name\n",
    "    sub_nodes.append(node.iloc[start:end])\n",
    "    # The first iteration adds an empty dataframe. This removes it.\n",
    "    return sub_nodes[1:]\n",
    "\n",
    "\n",
    "def process_sub_nodes(key_str, extract_prefix, slices_dict):\n",
    "    sub_nodes = split_sub_nodes(slices_dict.pop(key_str), extract_prefix)\n",
    "    key_num, key_name = key_str.split(':')\n",
    "    \n",
    "    for i, node in enumerate(sub_nodes):\n",
    "        # This regex matches anything after\n",
    "        new_key = re.sub('(?<=: ).*', extract_prefix(node.iloc[0]), key_str)\n",
    "        node = node.rename({key_str: new_key}, axis='columns')\n",
    "        slices_dict[new_key] = node\n",
    "\n",
    "process_sub_nodes('00: Places of Interest', partial(extract_prefix, 2), slices_dict)\n",
    "process_sub_nodes('12: Granite Cave', partial(extract_prefix, 3), slices_dict) \n",
    "process_sub_nodes('13: Abandoned Ship', extract_prefix_abandoned_ship, slices_dict)\n",
    "process_sub_nodes('15: Meteor Falls', extract_prefix_meteor_falls, slices_dict)  \n",
    "process_sub_nodes('18: Mt Pyre', partial(extract_prefix, 3), slices_dict) \n",
    "process_sub_nodes('20: Magma Hideout', partial(extract_prefix, 3), slices_dict)  \n",
    "process_sub_nodes('21: Aqua Hideout', extract_prefix_aqua_hideout, slices_dict)\n",
    "process_sub_nodes('24: Seafloor Cavern', partial(extract_prefix, 3), slices_dict) \n",
    "process_sub_nodes('25: Pokecenters', partial(extract_prefix, 2), slices_dict)\n",
    "process_sub_nodes('26: Victory Road', partial(extract_prefix, 3), slices_dict) \n",
    "process_sub_nodes('28: E4 Pokecenter', partial(extract_prefix, 3), slices_dict) \n",
    "process_sub_nodes('31: Sky Pillar', partial(extract_prefix, 3), slices_dict) \n",
    "\n",
    "slices = slices_dict.values()\n",
    "\n",
    "nodes = {}\n",
    "edges = {}\n",
    "for s in slices:\n",
    "    node_name = s.iloc[:,0].name\n",
    "    node_name = str.strip(node_name.split(':')[1]) # remove number and whitespace from name\n",
    "    edges.update({e: node_name for e in s.iloc[:,0]})\n",
    "    nodes.update({node_name: {'node_name': node_name,\n",
    "                              'transitions': [{'entrance': e, 'destination': d} for e, d in s.iloc],\n",
    "                              'visited':  False,\n",
    "                              'previous': {}}})\n",
    "    \n",
    "class Graph:\n",
    "    def __init__(self, nodes, edges):\n",
    "        self.nodes = nodes\n",
    "        self.edges = edges\n",
    "        \n",
    "graph = Graph(nodes, edges)"
   ]
  },
  {
   "cell_type": "code",
   "execution_count": 159,
   "id": "dc249366-577d-484f-8768-89e084ad2d00",
   "metadata": {},
   "outputs": [
    {
     "data": {
      "text/plain": [
       "'21: : Aqua Hideout B1F NE'"
      ]
     },
     "execution_count": 159,
     "metadata": {},
     "output_type": "execute_result"
    }
   ],
   "source": [
    "split_sub_nodes(slices_dict['02: Rustboro'], partial(extract_prefix, 2))[0].iloc[0]\n",
    "'Aqua Hideout B1F NE'\n",
    "'21: Aqua Hideout'\n",
    "re.sub(':.*', ': Aqua Hideout B1F NE', '21: Aqua Hideout')\n",
    "re.sub('(?<=: ).*', ': Aqua Hideout B1F NE', '21: Aqua Hideout')"
   ]
  },
  {
   "cell_type": "code",
   "execution_count": 161,
   "id": "c3127e83-c180-452b-8551-05f39140b83a",
   "metadata": {},
   "outputs": [
    {
     "name": "stdout",
     "output_type": "stream",
     "text": [
      "01: Oldale/Petalburg\n",
      "02: Rustboro\n",
      "03: Dewford\n",
      "04: Slateport/Mauville/Verdanturf\n",
      "05: Fallarbor/Lavaridge\n",
      "06: Fortree/Lilycove\n",
      "07: Mossdeep\n",
      "08: Pacifidlog\n",
      "09: Sootopolis\n",
      "10: Petalburg Woods\n",
      "11: Rusturf Tunnel\n",
      "14: Jagged Pass\n",
      "16: Mirage Tower\n",
      "17: Route 119/123\n",
      "19: Surf Hub\n",
      "22: Lilycove Contest Hall\n",
      "23: Lilycove Department Store\n",
      "27: Waterfall Hub\n",
      "29: Navel Rock\n",
      "30: Dive Hub\n",
      "00: Rustboro Gym\n",
      "00: Mauville Gym\n",
      "00: Lavaridge Gym\n",
      "00: E4 Sidney\n",
      "00: E4 Glacia\n",
      "00: E4 Drake\n",
      "00: Groudon\n",
      "00: Ho-oh\n",
      "00: Lugia\n",
      "00: Regice\n",
      "12: Granite Cave 1F\n",
      "12: Granite Cave B1F\n",
      "12: Granite Cave B2F\n",
      "13: Abandoned Ship 1F Left\n",
      "13: Abandoned Ship 1F Right\n",
      "13: Abandoned Ship Rooms NE\n",
      "13: Abandoned Ship Rooms SE\n",
      "13: Abandoned Ship B1F\n",
      "15: Meteor Falls 1F\n",
      "15: Meteor Falls B1F Left\n",
      "15: Meteor Falls B1F Right\n",
      "18: Mt Pyre 2F\n",
      "18: Mt Pyre 3F\n",
      "18: Mt Pyre 4F\n",
      "18: Mt Pyre 5F\n",
      "20: Magma Hideout 1F\n",
      "20: Magma Hideout 3F\n",
      "21: Aqua Hideout B1F NE\n",
      "21: Aqua Hideout B1F S\n",
      "21: Aqua Hideout B2F\n",
      "21: Aqua Hideout Warps 1\n",
      "21: Aqua Hideout Warps 2\n",
      "21: Aqua Hideout Warps 3\n",
      "21: Aqua Hideout Warps 4\n",
      "24: Seafloor Cavern R1\n",
      "24: Seafloor Cavern R2\n",
      "24: Seafloor Cavern R3\n",
      "24: Seafloor Cavern R5\n",
      "24: Seafloor Cavern R6\n",
      "25: Petalburg Pokecenter\n",
      "25: Rustboro Pokecenter\n",
      "25: Slateport Pokecenter\n",
      "25: Mauville Pokecenter\n",
      "25: Fallarbor Pokecenter\n",
      "25: Lilycove Pokecenter\n",
      "25: Mossdeep Pokecenter\n",
      "25: Sootopolis Pokecenter\n",
      "25: Pacifidlog Pokecenter\n",
      "26: Victory Road B1F\n",
      "26: Victory Road B2F\n",
      "28: E4 Pokecenter S\n",
      "28: E4 Pokecenter W\n",
      "28: Lavaridge Pokecenter S\n",
      "28: Lavaridge Pokecenter W\n",
      "28: Lavaridge Pokecenter N\n",
      "31: Sky Pillar 1F\n",
      "31: Sky Pillar 2F\n",
      "31: Sky Pillar 3F\n",
      "31: Sky Pillar 4F\n"
     ]
    }
   ],
   "source": [
    "for s in slices:\n",
    "    print(s.iloc[:,0].name)\n",
    "# print([s.iloc[:,0].name for s in slices])"
   ]
  },
  {
   "cell_type": "code",
   "execution_count": 167,
   "id": "4b0c0613-9e86-4cd7-834f-3ed4e538f52f",
   "metadata": {
    "tags": []
   },
   "outputs": [
    {
     "data": {
      "text/plain": [
       "{'node_name': 'Rustboro',\n",
       " 'transitions': [{'entrance': 'Rustboro Mart',\n",
       "   'destination': 'Petalburg Woods SE'},\n",
       "  {'entrance': 'Rustboro Pokecenter',\n",
       "   'destination': 'Sootopolis Pokecenter S'},\n",
       "  {'entrance': 'Rustboro SE', 'destination': 'Meteor Falls 1F E'},\n",
       "  {'entrance': 'Rustboro Cut House', 'destination': 'Slateport Pokecenter S'}],\n",
       " 'visited': True,\n",
       " 'previous': {'Meteor Falls 1F': [{'entrance': 'Meteor Falls 1F E',\n",
       "    'destination': 'Rustboro SE'}]}}"
      ]
     },
     "execution_count": 167,
     "metadata": {},
     "output_type": "execute_result"
    }
   ],
   "source": [
    "import copy\n",
    "\n",
    "def graph_algo(src, dest, graph):\n",
    "    if src == dest:\n",
    "        return True\n",
    "    src_node = graph.nodes[src]\n",
    "    src_node['visited'] = True\n",
    "    queue = [src_node]\n",
    "\n",
    "    while len(queue) > 0:\n",
    "        # print('Queue: ', sorted([x['node_name'] for x in queue]))\n",
    "        current = queue.pop(0)\n",
    "        # if current['node_name'] == dest:\n",
    "            # print('Current: %s equals Dest: %s' % (current['node_name'], dest))\n",
    "            # print('### FOUND IT ####')\n",
    "            # print(current)\n",
    "        for t in current['transitions']:\n",
    "            node_name = graph.edges.get(t['destination'])\n",
    "            # the node might not exist: Strength, one-way, the 32: Marts thing is not really present in the sheet.\n",
    "            if node_name:\n",
    "                node = graph.nodes[node_name]\n",
    "                if node['visited']:\n",
    "                    continue\n",
    "                # add previous\n",
    "                prev = node['previous']\n",
    "                if prev.get(current['node_name']):\n",
    "                    prev[current['node_name']].append(t)\n",
    "                else:\n",
    "                    prev[current['node_name']] = [t]\n",
    "                # mark visited\n",
    "                # if not node['visited']:\n",
    "                    # node['visited'] = True\n",
    "                    # queue.append(node)\n",
    "                node['visited'] = True\n",
    "                queue.append(node)\n",
    "    return graph.nodes[dest]\n",
    "\n",
    "graph_copy = copy.deepcopy(graph)\n",
    "dest = graph_algo('Slateport/Mauville/Verdanturf', 'Rustboro', graph_copy)\n",
    "dest"
   ]
  },
  {
   "cell_type": "code",
   "execution_count": 172,
   "id": "8c81c30d-cfd5-4fb7-a850-221260f9a655",
   "metadata": {},
   "outputs": [
    {
     "name": "stdout",
     "output_type": "stream",
     "text": [
      "('Meteor Falls 1F', {'entrance': 'Meteor Falls 1F E', 'destination': 'Rustboro SE'})\n",
      "('Fallarbor/Lavaridge', {'entrance': 'Fallarbor Fossil Maniac', 'destination': 'Meteor Falls 1F S'})\n",
      "('Slateport/Mauville/Verdanturf', {'entrance': 'R109 Seashore House', 'destination': 'R114 Lanette'})\n"
     ]
    },
    {
     "data": {
      "text/plain": [
       "[]"
      ]
     },
     "execution_count": 172,
     "metadata": {},
     "output_type": "execute_result"
    }
   ],
   "source": [
    "def flatten_prev(node_name, graph):\n",
    "    node = graph.nodes[node_name]\n",
    "    return [(node[0], trans) for node in list(node['previous'].items())\n",
    "                                for trans in node[1]]\n",
    "def list_prev(node_name, graph):\n",
    "    node = graph.nodes[node_name]\n",
    "    flat_prev = flatten_prev(node_name, graph)\n",
    "    return flat_prev\n",
    "    \n",
    "\n",
    "print(flatten_prev('Rustboro', graph_copy)[0])\n",
    "print(flatten_prev('Meteor Falls 1F', graph_copy)[0])\n",
    "print(flatten_prev('Fallarbor/Lavaridge', graph_copy)[0])\n",
    "# print(flatten_prev('Slateport/Mauville/Verdanturf', graph_copy)[0])\n",
    "# print(flatten_prev('Slateport/Mauville/Verdanturf', graph_copy)[0])\n",
    "\n",
    "\n",
    "list_prev('Slateport/Mauville/Verdanturf', graph_copy)"
   ]
  },
  {
   "cell_type": "code",
   "execution_count": 189,
   "id": "884bc0f0-4ffc-4e83-8c23-c682b9195c3f",
   "metadata": {},
   "outputs": [
    {
     "name": "stdout",
     "output_type": "stream",
     "text": [
      "('Rustboro', {'Meteor Falls 1F': [{'entrance': 'Meteor Falls 1F E', 'destination': 'Rustboro SE'}]})\n",
      "('Meteor Falls 1F', {'Fallarbor/Lavaridge': [{'entrance': 'Fallarbor Fossil Maniac', 'destination': 'Meteor Falls 1F S'}]})\n"
     ]
    }
   ],
   "source": [
    "print((graph_copy.nodes['Rustboro']['node_name'], graph_copy.nodes['Rustboro']['previous']))\n",
    "print((graph_copy.nodes[list(graph_copy.nodes['Rustboro']['previous'].keys())[0]]['node_name'], graph_copy.nodes[list(graph_copy.nodes['Rustboro']['previous'].keys())[0]]['previous']))\n",
    "# graph_copy.nodes['Rustboro']"
   ]
  },
  {
   "cell_type": "code",
   "execution_count": 238,
   "id": "b597b407-e03c-4198-8356-6368af159b05",
   "metadata": {},
   "outputs": [
    {
     "data": {
      "text/plain": [
       "[('Rustboro',\n",
       "  {'Meteor Falls 1F': [{'entrance': 'Meteor Falls 1F E',\n",
       "     'destination': 'Rustboro SE'}]}),\n",
       " ('Meteor Falls 1F',\n",
       "  {'Fallarbor/Lavaridge': [{'entrance': 'Fallarbor Fossil Maniac',\n",
       "     'destination': 'Meteor Falls 1F S'}]}),\n",
       " ('Fallarbor/Lavaridge',\n",
       "  {'Slateport/Mauville/Verdanturf': [{'entrance': 'R109 Seashore House',\n",
       "     'destination': 'R114 Lanette'}]}),\n",
       " ('Slateport/Mauville/Verdanturf', {})]"
      ]
     },
     "execution_count": 238,
     "metadata": {},
     "output_type": "execute_result"
    }
   ],
   "source": [
    "def list_path(dest, graph):\n",
    "    node = graph.nodes[dest]\n",
    "    path = []\n",
    "    while node['previous']:\n",
    "        path.append((node['node_name'], node['previous']))\n",
    "        prev = list(node['previous'].keys())[0]\n",
    "        node = graph.nodes[prev]\n",
    "    path.append((node['node_name'], {}))\n",
    "    return path\n",
    "\n",
    "list_path('Rustboro', graph_copy)"
   ]
  },
  {
   "cell_type": "code",
   "execution_count": 116,
   "id": "c76fc4a9-aaff-489d-96fb-99684f494594",
   "metadata": {},
   "outputs": [
    {
     "ename": "KeyError",
     "evalue": "'Granite Cave B1F SE'",
     "output_type": "error",
     "traceback": [
      "\u001b[1;31m---------------------------------------------------------------------------\u001b[0m",
      "\u001b[1;31mKeyError\u001b[0m                                  Traceback (most recent call last)",
      "\u001b[1;32m~\\AppData\\Local\\Temp/ipykernel_14800/490011790.py\u001b[0m in \u001b[0;36m<module>\u001b[1;34m\u001b[0m\n\u001b[0;32m      3\u001b[0m \u001b[1;31m# 07: Mossdeep\u001b[0m\u001b[1;33m\u001b[0m\u001b[1;33m\u001b[0m\u001b[0m\n\u001b[0;32m      4\u001b[0m \u001b[1;31m# 24-Seafloor Cavern R1: Seafloor Cavern\u001b[0m\u001b[1;33m\u001b[0m\u001b[1;33m\u001b[0m\u001b[0m\n\u001b[1;32m----> 5\u001b[1;33m \u001b[0mgraph_copy\u001b[0m\u001b[1;33m.\u001b[0m\u001b[0mnodes\u001b[0m\u001b[1;33m[\u001b[0m\u001b[1;34m'Granite Cave B1F SE'\u001b[0m\u001b[1;33m]\u001b[0m\u001b[1;33m\u001b[0m\u001b[1;33m\u001b[0m\u001b[0m\n\u001b[0m",
      "\u001b[1;31mKeyError\u001b[0m: 'Granite Cave B1F SE'"
     ]
    }
   ],
   "source": [
    "# TODO: obviously the edges are wrong\n",
    "# renaming mesed up\n",
    "# 07: Mossdeep\n",
    "# 24-Seafloor Cavern R1: Seafloor Cavern\n",
    "graph.edges['Granite Cave B1F SE']"
   ]
  },
  {
   "cell_type": "code",
   "execution_count": null,
   "id": "d72b835f-92c0-49c7-ad3e-f05f89ecf73e",
   "metadata": {
    "tags": []
   },
   "outputs": [],
   "source": [
    "reachable = set()\n",
    "\n",
    "def reach(node_name, graph, depth_max):\n",
    "    node = graph.nodes[node_name]\n",
    "    prev = node['previous'].keys()\n",
    "    # print(prev)\n",
    "    for k in prev:\n",
    "        reachable.add(k)\n",
    "        if depth_max > 0:\n",
    "            reach(k, graph, depth_max-1)\n",
    "reach('Rustboro', graph_copy, 5)\n",
    "len(reachable)"
   ]
  },
  {
   "cell_type": "code",
   "execution_count": null,
   "id": "ebaaa7c3-34f1-4fd2-a5a8-2c9db1e17d73",
   "metadata": {},
   "outputs": [],
   "source": [
    "name = dest['node_name']\n",
    "the_node = graph_copy.nodes[name]\n",
    "prev = the_node['previous']\n",
    "flat_prev = [[(node[0], trans)] for node in list(prev.items())\n",
    "    for trans in node[1]]\n",
    "\n",
    "def list_prev(node_name):\n",
    "    node = graph_copy.nodes[node_name]\n",
    "    flat_prev = [(node[0], trans) for node in list(node['previous'].items())\n",
    "                                    for trans in node[1]]\n",
    "    \n",
    "    \n",
    "flat_prev[0]"
   ]
  },
  {
   "cell_type": "code",
   "execution_count": null,
   "id": "5208b282-45bd-46ee-9836-8a3375267a40",
   "metadata": {},
   "outputs": [],
   "source": []
  }
 ],
 "metadata": {
  "kernelspec": {
   "display_name": "Python 3 (ipykernel)",
   "language": "python",
   "name": "python3"
  },
  "language_info": {
   "codemirror_mode": {
    "name": "ipython",
    "version": 3
   },
   "file_extension": ".py",
   "mimetype": "text/x-python",
   "name": "python",
   "nbconvert_exporter": "python",
   "pygments_lexer": "ipython3",
   "version": "3.9.7"
  }
 },
 "nbformat": 4,
 "nbformat_minor": 5
}
