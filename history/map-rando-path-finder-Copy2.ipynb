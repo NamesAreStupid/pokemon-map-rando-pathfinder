{
 "cells": [
  {
   "cell_type": "code",
   "execution_count": 1,
   "id": "49a1651e-ea5d-4c3a-9c2e-07423bf05e72",
   "metadata": {},
   "outputs": [],
   "source": [
    "import pandas as pd\n",
    "import numpy as np\n",
    "\n",
    "df = pd.read_excel('node-edges.xlsx', header=None, )\n",
    "df.columns = df.iloc[61]\n",
    "df = df.iloc[0:30]\n",
    "\n",
    "count = 0\n",
    "for i in range(0, len(df.columns)):\n",
    "    if (i % 2 != 0):\n",
    "        df.columns.values[i] = (\"%02d\" % count) + ': Destination'\n",
    "        count += 1\n",
    "        \n",
    "slices = []\n",
    "for i in range(2, len(df.columns), 2):\n",
    "    s = df.iloc[:, i-2:i]\n",
    "    s = s.dropna()\n",
    "    s = s[s.iloc[:,1] != '-'] # edges are marked at entrance AND destination, so missing values can be removed\n",
    "    slices.append(s)\n",
    "    \n",
    "nodes = {}\n",
    "edges = {}\n",
    "for s in slices:\n",
    "    node_name = s.iloc[:,0].name\n",
    "    node_name = str.strip(node_name.split(':')[1]) # remove number and whitespace from name\n",
    "    edges.update({e: node_name for e in s.iloc[:,0]})\n",
    "    nodes.update({node_name: {'node_name': node_name,\n",
    "                              'transitions': [{'entrance': e, 'destination': d} for e, d in s.iloc],\n",
    "                              'visited':  False,\n",
    "                              'previous': {}}})\n",
    "    \n",
    "class Graph:\n",
    "    def __init__(self, nodes, edges):\n",
    "        self.nodes = nodes\n",
    "        self.edges = edges\n",
    "        \n",
    "graph = Graph(nodes, edges)"
   ]
  },
  {
   "cell_type": "code",
   "execution_count": 2,
   "id": "4b0c0613-9e86-4cd7-834f-3ed4e538f52f",
   "metadata": {
    "tags": []
   },
   "outputs": [
    {
     "data": {
      "text/plain": [
       "{'node_name': 'Rustboro',\n",
       " 'transitions': [{'entrance': 'Rustboro Mart',\n",
       "   'destination': 'Petalburg Woods SE'},\n",
       "  {'entrance': 'Rustboro Pokecenter',\n",
       "   'destination': 'Sootopolis Pokecenter S'},\n",
       "  {'entrance': 'Rustboro SE', 'destination': 'Meteor Falls 1F E'},\n",
       "  {'entrance': 'Rustboro Cut House', 'destination': 'Slateport Pokecenter S'}],\n",
       " 'visited': True,\n",
       " 'previous': {'Pokecenters': [{'entrance': 'Slateport Pokecenter S',\n",
       "    'destination': 'Rustboro Cut House'},\n",
       "   {'entrance': 'Sootopolis Pokecenter S',\n",
       "    'destination': 'Rustboro Pokecenter'}],\n",
       "  'Meteor Falls': [{'entrance': 'Meteor Falls 1F E',\n",
       "    'destination': 'Rustboro SE'}],\n",
       "  'Petalburg Woods': [{'entrance': 'Petalburg Woods SE',\n",
       "    'destination': 'Rustboro Mart'}]}}"
      ]
     },
     "execution_count": 2,
     "metadata": {},
     "output_type": "execute_result"
    }
   ],
   "source": [
    "import copy\n",
    "\n",
    "def graph_algo(src, dest, graph):\n",
    "    if src == dest:\n",
    "        return True\n",
    "    src_node = graph.nodes[src]\n",
    "    src_node['visited'] = True\n",
    "    queue = [src_node]\n",
    "\n",
    "    while len(queue) > 0:\n",
    "        # print('Queue: ', sorted([x['node_name'] for x in queue]))\n",
    "        current = queue.pop(0)\n",
    "        # if current['node_name'] == dest:\n",
    "            # print('Current: %s equals Dest: %s' % (current['node_name'], dest))\n",
    "            # print('### FOUND IT ####')\n",
    "            # print(current)\n",
    "        for t in current['transitions']:\n",
    "            node_name = graph.edges.get(t['destination'])\n",
    "            if node_name:\n",
    "                node = graph.nodes[node_name]\n",
    "                # add previous\n",
    "                prev = node['previous']\n",
    "                if prev.get(current['node_name']):\n",
    "                    prev[current['node_name']].append(t)\n",
    "                else:\n",
    "                    prev[current['node_name']] = [t]\n",
    "                # mark visited\n",
    "                if not node['visited']:\n",
    "                    node['visited'] = True\n",
    "                    queue.append(node)\n",
    "    return graph.nodes[dest]\n",
    "\n",
    "graph_copy = copy.deepcopy(graph)\n",
    "dest = graph_algo('Slateport/Mauville/Verdanturf', 'Rustboro', graph_copy)\n",
    "dest"
   ]
  },
  {
   "cell_type": "code",
   "execution_count": 6,
   "id": "d72b835f-92c0-49c7-ad3e-f05f89ecf73e",
   "metadata": {
    "tags": []
   },
   "outputs": [
    {
     "data": {
      "text/plain": [
       "28"
      ]
     },
     "execution_count": 6,
     "metadata": {},
     "output_type": "execute_result"
    }
   ],
   "source": [
    "reachable = set()\n",
    "\n",
    "def reach(node_name, graph, depth_max):\n",
    "    node = graph.nodes[node_name]\n",
    "    prev = node['previous'].keys()\n",
    "    # print(prev)\n",
    "    for k in prev:\n",
    "        reachable.add(k)\n",
    "        if depth_max > 0:\n",
    "            reach(k, graph, depth_max-1)\n",
    "reach('Rustboro', graph_copy, 5)\n",
    "len(reachable)"
   ]
  },
  {
   "cell_type": "code",
   "execution_count": 124,
   "id": "ebaaa7c3-34f1-4fd2-a5a8-2c9db1e17d73",
   "metadata": {},
   "outputs": [
    {
     "data": {
      "text/plain": [
       "[('Pokecenters',\n",
       "  {'entrance': 'Slateport Pokecenter S', 'destination': 'Rustboro Cut House'})]"
      ]
     },
     "execution_count": 124,
     "metadata": {},
     "output_type": "execute_result"
    }
   ],
   "source": [
    "name = dest['node_name']\n",
    "the_node = graph_copy.nodes[name]\n",
    "prev = the_node['previous']\n",
    "flat_prev = [[(node[0], trans)] for node in list(prev.items())\n",
    "    for trans in node[1]]\n",
    "\n",
    "def list_prev(node_name):\n",
    "    node = graph_copy.nodes[node_name]\n",
    "    flat_prev = [(node[0], trans) for node in list(node['previous'].items())\n",
    "                                    for trans in node[1]]\n",
    "    \n",
    "    \n",
    "flat_prev[0]"
   ]
  },
  {
   "cell_type": "code",
   "execution_count": 139,
   "id": "8c81c30d-cfd5-4fb7-a850-221260f9a655",
   "metadata": {},
   "outputs": [
    {
     "name": "stdout",
     "output_type": "stream",
     "text": [
      "('Aqua Hideout', {'entrance': 'Aqua Hideout B2F NW', 'destination': 'Slateport Contest'})\n",
      "('Slateport/Mauville/Verdanturf', {'entrance': 'Slateport Contest', 'destination': 'Aqua Hideout B2F NW'})\n"
     ]
    },
    {
     "data": {
      "text/plain": [
       "[('Aqua Hideout',\n",
       "  {'entrance': 'Aqua Hideout B2F NW', 'destination': 'Slateport Contest'}),\n",
       " ('Pokecenters',\n",
       "  {'entrance': 'Rustboro Pokecenter S', 'destination': 'Mauville S'}),\n",
       " ('Pokecenters',\n",
       "  {'entrance': 'Fallarbor Pokecenter W', 'destination': 'R110 Cycle Road S'}),\n",
       " ('Pokecenters',\n",
       "  {'entrance': 'Lilycove Pokecenter W', 'destination': 'Slateport Mart'}),\n",
       " ('Mt Pyre',\n",
       "  {'entrance': 'Mt Pyre 2F Ceiling 1', 'destination': 'Slateport Museum'}),\n",
       " ('Mt Pyre', {'entrance': 'Mt Pyre 3F Up', 'destination': 'Mauville Gym'}),\n",
       " ('E4 Pokecenter',\n",
       "  {'entrance': 'Lavaridge Pokecenter S',\n",
       "   'destination': 'Slateport Pokecenter'}),\n",
       " ('Oldale/Petalburg',\n",
       "  {'entrance': 'Oldale SE', 'destination': 'Slateport Museum'}),\n",
       " ('Oldale/Petalburg',\n",
       "  {'entrance': 'Petalburg Gym', 'destination': 'Slateport SE'}),\n",
       " ('Fallarbor/Lavaridge',\n",
       "  {'entrance': 'Fallarbor Move Relearner', 'destination': 'Verdanturf SW'}),\n",
       " ('Fallarbor/Lavaridge',\n",
       "  {'entrance': 'R114 Lanette', 'destination': 'R109 Seashore House'}),\n",
       " ('Granite Cave',\n",
       "  {'entrance': 'Granite Cave B1F SE', 'destination': 'Mauville Mart'}),\n",
       " ('Abandoned Ship',\n",
       "  {'entrance': 'Abandoned Ship 1F Left S', 'destination': 'Verdanturf Mart'}),\n",
       " ('Abandoned Ship',\n",
       "  {'entrance': 'Abandoned Ship Rooms SE', 'destination': 'Verdanturf S'}),\n",
       " ('Abandoned Ship',\n",
       "  {'entrance': 'Abandoned Ship B1F SW', 'destination': 'Mauville Pokecenter'}),\n",
       " ('Magma Hideout',\n",
       "  {'entrance': 'Magma Hideout 1F SE', 'destination': 'R110 Cycle Road N'}),\n",
       " ('Meteor Falls',\n",
       "  {'entrance': 'Meteor Falls B1F Right S',\n",
       "   'destination': 'R111 Winstrate House'}),\n",
       " ('Mossdeep',\n",
       "  {'entrance': 'Mossdeep NE', 'destination': 'Verdanturf Rusturf Tunnel'}),\n",
       " ('Places of Interest',\n",
       "  {'entrance': 'Mauville Gym Interior', 'destination': 'Verdanturf SE'})]"
      ]
     },
     "execution_count": 139,
     "metadata": {},
     "output_type": "execute_result"
    }
   ],
   "source": [
    "def flatten_prev(node_name, graph):\n",
    "    node = graph.nodes[node_name]\n",
    "    return [(node[0], trans) for node in list(node['previous'].items())\n",
    "                        for trans in node[1]]\n",
    "def list_prev(node_name, graph):\n",
    "    node = graph.nodes[node_name]\n",
    "    flat_prev = flatten_prev(node_name, graph)\n",
    "    return flat_prev\n",
    "    \n",
    "\n",
    "print(flatten_prev('Slateport/Mauville/Verdanturf', graph_copy)[0])\n",
    "print(flatten_prev('Aqua Hideout', graph_copy)[0])\n",
    "list_prev('Slateport/Mauville/Verdanturf', graph_copy)"
   ]
  },
  {
   "cell_type": "code",
   "execution_count": 90,
   "id": "03b871ba-9877-46ec-9092-c68d874639dd",
   "metadata": {},
   "outputs": [
    {
     "data": {
      "text/plain": [
       "{'Slateport/Mauville/Verdanturf': [{'entrance': 'Slateport Mart',\n",
       "   'destination': 'Lilycove Pokecenter W'}]}"
      ]
     },
     "execution_count": 90,
     "metadata": {},
     "output_type": "execute_result"
    }
   ],
   "source": [
    "graph_copy.nodes['Pokecenters']['previous']"
   ]
  },
  {
   "cell_type": "code",
   "execution_count": 91,
   "id": "2a1c4fc1-1fff-4f4e-87b2-23c10feda95d",
   "metadata": {},
   "outputs": [
    {
     "data": {
      "text/plain": [
       "{'node_name': 'Slateport/Mauville/Verdanturf',\n",
       " 'transitions': [{'entrance': 'Slateport Contest',\n",
       "   'destination': 'Aqua Hideout B2F NW'},\n",
       "  {'entrance': 'Slateport Fan Club', 'destination': 'Strength'},\n",
       "  {'entrance': 'Slateport Mart', 'destination': 'Lilycove Pokecenter W'},\n",
       "  {'entrance': 'Slateport Museum', 'destination': 'Mt Pyre 2F Ceiling 1'},\n",
       "  {'entrance': 'Slateport Name Rater', 'destination': 'Dive'},\n",
       "  {'entrance': 'Slateport Pokecenter',\n",
       "   'destination': 'Lavaridge Pokecenter S'},\n",
       "  {'entrance': 'Slateport SE', 'destination': 'Petalburg Gym'},\n",
       "  {'entrance': 'R109 Seashore House', 'destination': 'R114 Lanette'},\n",
       "  {'entrance': 'R110 Cycle Road S', 'destination': 'Fallarbor Pokecenter W'},\n",
       "  {'entrance': 'Daycare', 'destination': 'Dead-End'},\n",
       "  {'entrance': 'Mauville Bike Shop', 'destination': 'Dead-End'},\n",
       "  {'entrance': 'Mauville Casino', 'destination': 'Dead-End'},\n",
       "  {'entrance': 'Mauville Gym', 'destination': 'Mt Pyre 3F Up'},\n",
       "  {'entrance': 'Mauville Mart', 'destination': 'Granite Cave B1F SE'},\n",
       "  {'entrance': 'Mauville Pokecenter', 'destination': 'Abandoned Ship B1F SW'},\n",
       "  {'entrance': 'Mauville S', 'destination': 'Rustboro Pokecenter S'},\n",
       "  {'entrance': 'Mauville SE', 'destination': 'Dead-End'},\n",
       "  {'entrance': 'R110 Cycle Road N', 'destination': 'Magma Hideout 1F SE'},\n",
       "  {'entrance': 'R111 Winstrate House',\n",
       "   'destination': 'Meteor Falls B1F Right S'},\n",
       "  {'entrance': 'Verdanturf Mart', 'destination': 'Abandoned Ship 1F Left S'},\n",
       "  {'entrance': 'Verdanturf Rusturf Tunnel', 'destination': 'Mossdeep NE'},\n",
       "  {'entrance': 'Verdanturf SW', 'destination': 'Fallarbor Move Relearner'},\n",
       "  {'entrance': 'Verdanturf S', 'destination': 'Abandoned Ship Rooms SE'},\n",
       "  {'entrance': 'Verdanturf SE', 'destination': 'Mauville Gym Interior'}],\n",
       " 'visited': True,\n",
       " 'previous': {}}"
      ]
     },
     "execution_count": 91,
     "metadata": {},
     "output_type": "execute_result"
    }
   ],
   "source": [
    "graph_copy.nodes['Slateport/Mauville/Verdanturf']"
   ]
  },
  {
   "cell_type": "code",
   "execution_count": 35,
   "id": "4d367f06-bc73-4f4f-a002-ac990e65507b",
   "metadata": {
    "tags": []
   },
   "outputs": [
    {
     "data": {
      "text/plain": [
       "['Abandoned Ship',\n",
       " 'Aqua Hideout',\n",
       " 'Dewford',\n",
       " 'Dive Hub',\n",
       " 'E4 Pokecenter',\n",
       " 'Fallarbor/Lavaridge',\n",
       " 'Fortree/Lilycove',\n",
       " 'Granite Cave',\n",
       " 'Jagged Pass',\n",
       " 'Lilycove Contest Hall',\n",
       " 'Lilycove Department Store',\n",
       " 'Magma Hideout',\n",
       " 'Meteor Falls',\n",
       " 'Mirage Tower',\n",
       " 'Mossdeep',\n",
       " 'Mt Pyre',\n",
       " 'Navel Rock',\n",
       " 'Oldale/Petalburg',\n",
       " 'Pacifidlog',\n",
       " 'Petalburg Woods',\n",
       " 'Places of Interest',\n",
       " 'Pokecenters',\n",
       " 'Route 119/123',\n",
       " 'Rustboro',\n",
       " 'Rusturf Tunnel',\n",
       " 'Seafloor Cavern',\n",
       " 'Sky Pillar',\n",
       " 'Slateport/Mauville/Verdanturf',\n",
       " 'Sootopolis',\n",
       " 'Surf Hub',\n",
       " 'Victory Road',\n",
       " 'Waterfall Hub']"
      ]
     },
     "execution_count": 35,
     "metadata": {},
     "output_type": "execute_result"
    }
   ],
   "source": [
    "list(edges.keys())\n",
    "len(list(nodes.keys()))\n",
    "sorted(list(nodes.keys()))\n",
    "# nodes"
   ]
  },
  {
   "cell_type": "code",
   "execution_count": 34,
   "id": "43b4aa6f-f7c2-4470-8a93-661f44ccb063",
   "metadata": {
    "collapsed": true,
    "jupyter": {
     "outputs_hidden": true
    },
    "tags": []
   },
   "outputs": [
    {
     "data": {
      "text/plain": [
       "['Abandoned Ship 1F Left Exit',\n",
       " 'Abandoned Ship 1F Left N',\n",
       " 'Abandoned Ship 1F Left S',\n",
       " 'Abandoned Ship 1F Left Stairs',\n",
       " 'Abandoned Ship 1F Right Exit',\n",
       " 'Abandoned Ship 1F Right SW',\n",
       " 'Abandoned Ship B1F SW',\n",
       " 'Abandoned Ship Rooms NE',\n",
       " 'Abandoned Ship Rooms SE',\n",
       " 'Aqua Hideout B1F NE Room N',\n",
       " 'Aqua Hideout B1F NE Room SE',\n",
       " 'Aqua Hideout B1F NE Room SW',\n",
       " 'Aqua Hideout B1F S Room E',\n",
       " 'Aqua Hideout B1F S Room NW',\n",
       " 'Aqua Hideout B1F S Room SW',\n",
       " 'Aqua Hideout B2F NW',\n",
       " 'Aqua Hideout B2F SW',\n",
       " 'Aqua Hideout Warps 1 N',\n",
       " 'Aqua Hideout Warps 1 S',\n",
       " 'Aqua Hideout Warps 1 SE',\n",
       " 'Aqua Hideout Warps 1 SW',\n",
       " 'Aqua Hideout Warps 2 C',\n",
       " 'Aqua Hideout Warps 2 E',\n",
       " 'Aqua Hideout Warps 2 W',\n",
       " 'Aqua Hideout Warps 3 C',\n",
       " 'Aqua Hideout Warps 3 W',\n",
       " 'Aqua Hideout Warps 4 C',\n",
       " 'Aqua Hideout Warps 4 E',\n",
       " 'Aqua Hideout Warps 4 W',\n",
       " 'Contest Hall NW',\n",
       " 'Contest Hall S',\n",
       " 'Department Store 1F Exit',\n",
       " 'Department Store 2F Up',\n",
       " 'Department Store 3F Down',\n",
       " 'Department Store 3F Up',\n",
       " 'Department Store 4F Down',\n",
       " 'Department Store 4F Up',\n",
       " 'Department Store 5F Down',\n",
       " 'Department Store 5F Up',\n",
       " 'Dewford Granite Cave',\n",
       " 'Dewford Gym',\n",
       " 'Dewford Hall',\n",
       " 'Dewford NE',\n",
       " 'Dewford Pokecenter',\n",
       " 'Dewford SE',\n",
       " 'E4 Drake',\n",
       " 'E4 Glacia',\n",
       " 'E4 Pokecenter S',\n",
       " 'E4 Pokecenter W',\n",
       " 'E4 Sidney',\n",
       " 'Fallarbor Contest',\n",
       " 'Fallarbor Fossil Maniac',\n",
       " 'Fallarbor Mart',\n",
       " 'Fallarbor Move Relearner',\n",
       " 'Fallarbor Pokecenter',\n",
       " 'Fallarbor Pokecenter S',\n",
       " 'Fallarbor Pokecenter W',\n",
       " 'Fallarbor S',\n",
       " 'Fortree Gym',\n",
       " 'Fortree Mart',\n",
       " 'Fortree NE',\n",
       " 'Fortree NNE',\n",
       " 'Fortree NNW',\n",
       " 'Fortree Pokecenter',\n",
       " 'Fortree SE',\n",
       " 'Fortree SW',\n",
       " 'Granite Cave 1F S',\n",
       " 'Granite Cave 1F SE',\n",
       " 'Granite Cave B1F NE',\n",
       " 'Granite Cave B1F NW',\n",
       " 'Granite Cave B1F SE',\n",
       " 'Granite Cave B2F E',\n",
       " 'Groudon',\n",
       " 'Ho-oh',\n",
       " 'Jagged Pass Magma Hideout',\n",
       " 'Jagged Pass S',\n",
       " 'Lavaridge Gym Interior',\n",
       " 'Lavaridge Herb Shop',\n",
       " 'Lavaridge Mart',\n",
       " 'Lavaridge Pokecenter',\n",
       " 'Lavaridge Pokecenter N',\n",
       " 'Lavaridge Pokecenter S',\n",
       " 'Lavaridge SE',\n",
       " 'Lilycove Aqua Hideout',\n",
       " 'Lilycove Contest',\n",
       " 'Lilycove E',\n",
       " 'Lilycove Motel',\n",
       " 'Lilycove Move Deleter',\n",
       " 'Lilycove NE',\n",
       " 'Lilycove Pokecenter',\n",
       " 'Lilycove Pokecenter S',\n",
       " 'Lilycove Pokecenter W',\n",
       " 'Lilycove SW',\n",
       " 'Lilycove Submarine',\n",
       " 'Lilycove W',\n",
       " 'Lugia',\n",
       " 'Magma Hideout 1F C',\n",
       " 'Magma Hideout 1F SE',\n",
       " 'Magma Hideout 3F C',\n",
       " 'Magma Hideout 3F S',\n",
       " 'Mauville Gym',\n",
       " 'Mauville Gym Interior',\n",
       " 'Mauville Mart',\n",
       " 'Mauville Pokecenter',\n",
       " 'Mauville Pokecenter S',\n",
       " 'Mauville Pokecenter W',\n",
       " 'Mauville S',\n",
       " 'Meteor Falls 1F E',\n",
       " 'Meteor Falls 1F S',\n",
       " 'Meteor Falls B1F Left SW',\n",
       " 'Meteor Falls B1F Right S',\n",
       " 'Meteor Falls B1F Right W',\n",
       " 'Mirage Tower 2F N',\n",
       " 'Mossdeep Gym',\n",
       " 'Mossdeep Mart',\n",
       " 'Mossdeep N',\n",
       " 'Mossdeep NE',\n",
       " 'Mossdeep NW',\n",
       " 'Mossdeep Pokecenter',\n",
       " 'Mossdeep Pokecenter S',\n",
       " 'Mossdeep Pokecenter W',\n",
       " 'Mossdeep S',\n",
       " 'Mossdeep SE',\n",
       " 'Mossdeep W',\n",
       " 'Mt Pyre 2F Ceiling 1',\n",
       " 'Mt Pyre 2F Down',\n",
       " 'Mt Pyre 2F Hole',\n",
       " 'Mt Pyre 2F Up',\n",
       " 'Mt Pyre 3F Hole',\n",
       " 'Mt Pyre 3F Up',\n",
       " 'Mt Pyre 4F Ceiling',\n",
       " 'Mt Pyre 4F Down',\n",
       " 'Mt Pyre 4F Hole',\n",
       " 'Mt Pyre 4F Up',\n",
       " 'Mt Pyre 5F Ceiling',\n",
       " 'Mt Pyre 5F Hole SE',\n",
       " 'Oldale Pokecenter',\n",
       " 'Oldale SE',\n",
       " 'Pacifidlog NE',\n",
       " 'Pacifidlog NW',\n",
       " 'Pacifidlog Pokecenter',\n",
       " 'Pacifidlog Pokecenter S',\n",
       " 'Pacifidlog Pokecenter W',\n",
       " 'Pacifidlog S',\n",
       " 'Pacifidlog SW',\n",
       " 'Petalburg Gym',\n",
       " 'Petalburg Mart',\n",
       " 'Petalburg Pokecenter S',\n",
       " 'Petalburg Pokecenter W',\n",
       " 'Petalburg SE',\n",
       " 'Petalburg SW',\n",
       " 'Petalburg Woods N',\n",
       " 'Petalburg Woods SE',\n",
       " 'Petalburg Woods SW',\n",
       " 'R109 Seashore House',\n",
       " 'R110 Cycle Road N',\n",
       " 'R110 Cycle Road S',\n",
       " 'R111 Old Lady',\n",
       " 'R111 Winstrate House',\n",
       " 'R112 Fiery Path N',\n",
       " 'R112 Fiery Path S',\n",
       " 'R112 Jagged Pass',\n",
       " 'R112 Mt. Chimney',\n",
       " 'R114 Lanette',\n",
       " 'R114 Meteor Falls',\n",
       " 'R120 Registeel',\n",
       " 'R123 Berry Master',\n",
       " 'Regice',\n",
       " 'Rustboro Cut House',\n",
       " 'Rustboro Gym Interior',\n",
       " 'Rustboro Mart',\n",
       " 'Rustboro Pokecenter',\n",
       " 'Rustboro Pokecenter S',\n",
       " 'Rustboro SE',\n",
       " 'Rusturf Tunnel E',\n",
       " 'Rusturf Tunnel S',\n",
       " 'Rusturf Tunnel W',\n",
       " 'Seafloor Cavern R1 N',\n",
       " 'Seafloor Cavern R1 SE',\n",
       " 'Seafloor Cavern R1 SW',\n",
       " 'Seafloor Cavern R2 SE',\n",
       " 'Seafloor Cavern R3 C',\n",
       " 'Seafloor Cavern R3 NE',\n",
       " 'Seafloor Cavern R3 S',\n",
       " 'Seafloor Cavern R5 S',\n",
       " 'Seafloor Cavern R6 N',\n",
       " 'Seafloor Cavern R6 SE',\n",
       " 'Seafloor Cavern R6 SW',\n",
       " 'Sky Pillar 1F Up',\n",
       " 'Sky Pillar 2F Up',\n",
       " 'Sky Pillar 3F C',\n",
       " 'Sky Pillar 4F C',\n",
       " 'Sky Pillar 4F Up',\n",
       " 'Slateport Contest',\n",
       " 'Slateport Mart',\n",
       " 'Slateport Museum',\n",
       " 'Slateport Pokecenter',\n",
       " 'Slateport Pokecenter S',\n",
       " 'Slateport Pokecenter W',\n",
       " 'Slateport SE',\n",
       " 'Sootopolis E1',\n",
       " 'Sootopolis E2',\n",
       " 'Sootopolis E3',\n",
       " 'Sootopolis E4',\n",
       " 'Sootopolis E5',\n",
       " 'Sootopolis Mart',\n",
       " 'Sootopolis Pokecenter',\n",
       " 'Sootopolis Pokecenter S',\n",
       " 'Sootopolis Pokecenter W',\n",
       " 'Sootopolis W2',\n",
       " 'Sootopolis W3',\n",
       " 'Verdanturf Mart',\n",
       " 'Verdanturf Rusturf Tunnel',\n",
       " 'Verdanturf S',\n",
       " 'Verdanturf SE',\n",
       " 'Verdanturf SW',\n",
       " 'Victory Road B1F S',\n",
       " 'Victory Road B1F SE',\n",
       " 'Victory Road B1F SW Room NE',\n",
       " 'Victory Road B1F SW Room SW',\n",
       " 'Victory Road B2F NE']"
      ]
     },
     "execution_count": 34,
     "metadata": {},
     "output_type": "execute_result"
    }
   ],
   "source": [
    "sorted(list(edges.keys()))"
   ]
  },
  {
   "cell_type": "code",
   "execution_count": 54,
   "id": "a683b1da-03cb-4ea1-9a31-65143aa056e4",
   "metadata": {},
   "outputs": [
    {
     "data": {
      "text/plain": [
       "['Aqua Hideout B1F S Room NW',\n",
       " 'Slateport Museum',\n",
       " 'Slateport SE',\n",
       " 'Rusturf Tunnel S',\n",
       " 'Pacifidlog NW',\n",
       " 'Aqua Hideout B1F NE Room N']"
      ]
     },
     "execution_count": 54,
     "metadata": {},
     "output_type": "execute_result"
    }
   ],
   "source": [
    "[e['destination'] for e in nodes['Oldale/Petalburg']['transitions']]"
   ]
  },
  {
   "cell_type": "code",
   "execution_count": 52,
   "id": "20d5e451-da04-4b3a-8a68-71bd7879264e",
   "metadata": {},
   "outputs": [
    {
     "data": {
      "text/plain": [
       "[{'entrance': 'Oldale Pokecenter',\n",
       "  'destination': 'Aqua Hideout B1F S Room NW'},\n",
       " {'entrance': 'Oldale SE', 'destination': 'Slateport Museum'},\n",
       " {'entrance': 'Petalburg Gym', 'destination': 'Slateport SE'},\n",
       " {'entrance': 'Petalburg Mart', 'destination': 'Rusturf Tunnel S'},\n",
       " {'entrance': 'Petalburg SE', 'destination': 'Pacifidlog NW'},\n",
       " {'entrance': 'Petalburg SW', 'destination': 'Aqua Hideout B1F NE Room N'}]"
      ]
     },
     "execution_count": 52,
     "metadata": {},
     "output_type": "execute_result"
    }
   ],
   "source": [
    "nodes['Oldale/Petalburg']['transitions']"
   ]
  },
  {
   "cell_type": "code",
   "execution_count": 52,
   "id": "683521d1-d6dd-406b-9e28-ce5c4cb2cd6d",
   "metadata": {},
   "outputs": [
    {
     "data": {
      "text/plain": [
       "['b', 'c']"
      ]
     },
     "execution_count": 52,
     "metadata": {},
     "output_type": "execute_result"
    }
   ],
   "source": [
    "lol = ['a', 'b', 'c']\n",
    "lol.pop(0)\n",
    "lol"
   ]
  }
 ],
 "metadata": {
  "kernelspec": {
   "display_name": "PyPy",
   "language": "python",
   "name": "pypy"
  },
  "language_info": {
   "codemirror_mode": {
    "name": "ipython",
    "version": 3
   },
   "file_extension": ".py",
   "mimetype": "text/x-python",
   "name": "python",
   "nbconvert_exporter": "python",
   "pygments_lexer": "ipython3",
   "version": "3.9.7"
  }
 },
 "nbformat": 4,
 "nbformat_minor": 5
}
